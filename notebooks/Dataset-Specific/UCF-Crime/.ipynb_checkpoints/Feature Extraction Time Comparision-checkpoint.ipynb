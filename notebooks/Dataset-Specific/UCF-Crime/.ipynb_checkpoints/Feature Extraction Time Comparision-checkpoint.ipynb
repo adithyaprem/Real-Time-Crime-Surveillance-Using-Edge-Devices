{
 "cells": [
  {
   "cell_type": "code",
   "execution_count": 1,
   "metadata": {},
   "outputs": [],
   "source": [
    "from video_stuff import getEmbeddings,get_hof,videoToHOGfeats, get_frames_per"
   ]
  },
  {
   "cell_type": "code",
   "execution_count": 2,
   "metadata": {},
   "outputs": [],
   "source": [
    "from time import time "
   ]
  },
  {
   "cell_type": "code",
   "execution_count": 4,
   "metadata": {},
   "outputs": [],
   "source": [
    "classes = ['Abuse','Arrest','Arson','Assault',\n",
    "     'Burglary','Explosion','Fighting',\n",
    "     'Normal']"
   ]
  },
  {
   "cell_type": "code",
   "execution_count": 6,
   "metadata": {},
   "outputs": [],
   "source": [
    "workingdir = '/home/UCF_Crime/Full_UCrime/annotated/Videos'"
   ]
  },
  {
   "cell_type": "code",
   "execution_count": 7,
   "metadata": {},
   "outputs": [],
   "source": [
    "from os import listdir"
   ]
  },
  {
   "cell_type": "code",
   "execution_count": 8,
   "metadata": {},
   "outputs": [
    {
     "name": "stdout",
     "output_type": "stream",
     "text": [
      "706 _________________________________\n",
      "FrameEmbeds\n",
      "31.68400549888611\n",
      "0.04487822852796603\n",
      "HOF\n",
      "4.746802568435669\n",
      "0.006723548805409721\n",
      "HOG\n",
      "0.4184577465057373\n",
      "0.0005927393186531391\n",
      "1024 _________________________________\n",
      "FrameEmbeds\n",
      "45.42604994773865\n",
      "0.04436139389872551\n",
      "HOF\n",
      "6.912982702255249\n",
      "0.00675097550265491\n",
      "HOG\n",
      "0.6584038734436035\n",
      "0.0006429899949580431\n",
      "41 _________________________________\n",
      "FrameEmbeds\n",
      "1.8810088634490967\n",
      "0.0458786138674108\n",
      "HOF\n",
      "0.3000943660736084\n",
      "0.007319752762957317\n",
      "HOG\n",
      "0.045322418212890625\n",
      "0.0011058086302222275\n",
      "195 _________________________________\n",
      "FrameEmbeds\n",
      "8.629382371902466\n",
      "0.0442533321869679\n",
      "HOF\n",
      "1.3428518772125244\n",
      "0.006886507914616511\n",
      "HOG\n",
      "0.14068913459777832\n",
      "0.0007215707730024289\n",
      "1500 _________________________________\n",
      "FrameEmbeds\n",
      "66.78902196884155\n",
      "0.044526026725769045\n",
      "HOF\n",
      "10.209842681884766\n",
      "0.006806573708852132\n",
      "HOG\n",
      "0.877178430557251\n",
      "0.0005847970644632975\n",
      "401 _________________________________\n",
      "FrameEmbeds\n",
      "17.730401277542114\n",
      "0.044215505557167266\n",
      "HOF\n",
      "2.756702423095703\n",
      "0.006874616009338835\n",
      "HOG\n",
      "0.24434971809387207\n",
      "0.0006093925371431651\n",
      "270 _________________________________\n",
      "FrameEmbeds\n",
      "11.838989973068237\n",
      "0.04384817017449273\n",
      "HOF\n",
      "1.860790729522705\n",
      "0.0068918996387057835\n",
      "HOG\n",
      "0.17720532417297363\n",
      "0.0006563822428385417\n",
      "10025 _________________________________\n",
      "FrameEmbeds\n",
      "442.756795167923\n",
      "0.04416526811081275\n",
      "HOF\n",
      "68.07159161567688\n",
      "0.006790185628686463\n",
      "HOG\n",
      "5.9285500049591064\n",
      "0.0005913782238662986\n"
     ]
    }
   ],
   "source": [
    "for label in classes:\n",
    "    fir = workingdir+'/'+label+'/'+listdir(label)[0]\n",
    "    nof = get_frames_per(fir)\n",
    "    print(nof,\"_________________________________\")\n",
    "    start=time()\n",
    "    getEmbeddings(fir)\n",
    "    print(\"FrameEmbeds\")\n",
    "    print(\"Total Time : \" ,(time()-start))\n",
    "    print(\"Per frame Time : \" ,((time()-start) / nof))\n",
    "\n",
    "    start=time()\n",
    "    get_hof(fir)\n",
    "    print(\"HOF\")\n",
    "    print(\"Total Time : \" ,(time()-start))\n",
    "    print(\"Per frame Time : \" ,((time()-start) / nof))\n",
    "\n",
    "    start=time()\n",
    "    videoToHOGfeats(fir)\n",
    "    print(\"HOG\")\n",
    "    print(\"Total Time : \" ,(time()-start))\n",
    "    print(\"Per frame Time : \" ,((time()-start) / nof))\n"
   ]
  }
 ],
 "metadata": {
  "kernelspec": {
   "display_name": "Python 3",
   "language": "python",
   "name": "python3"
  },
  "language_info": {
   "codemirror_mode": {
    "name": "ipython",
    "version": 3
   },
   "file_extension": ".py",
   "mimetype": "text/x-python",
   "name": "python",
   "nbconvert_exporter": "python",
   "pygments_lexer": "ipython3",
   "version": "3.6.8"
  }
 },
 "nbformat": 4,
 "nbformat_minor": 2
}
