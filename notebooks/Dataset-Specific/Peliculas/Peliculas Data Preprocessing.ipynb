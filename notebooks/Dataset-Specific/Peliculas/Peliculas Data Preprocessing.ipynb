{
 "cells": [
  {
   "cell_type": "markdown",
   "metadata": {},
   "source": [
    "# Data Preprocessing\n",
    "\n",
    "This notebook contains the data preprocessing done on the Peliculas dataset for the extraction of features compatible for RNN models.\n",
    "\n",
    "Histogram of Optical Flow is used as the algorithm for the extraction of features for a couple of frames."
   ]
  },
  {
   "cell_type": "code",
   "execution_count": null,
   "metadata": {},
   "outputs": [],
   "source": [
    "from video_stuff import getEmbeddings,get_frames_per, get_hof, pre_processing\n",
    "import glob\n",
    "import pandas as pd\n",
    "import numpy as np\n",
    "import os"
   ]
  },
  {
   "cell_type": "code",
   "execution_count": null,
   "metadata": {},
   "outputs": [],
   "source": [
    "import glob\n",
    "os.chdir('/home/adithyapa4444_gmail_com/Peliculas/fights')\n",
    "#os.listdir()\n",
    "files = glob.glob(os.path.join(os.getcwd(), '*.avi'))\n",
    "os.chdir('/home/adithyapa4444_gmail_com/Peliculas/noFights')\n",
    "files.extend(glob.glob(os.path.join(os.getcwd(), '*.avi')))\n",
    "#files"
   ]
  },
  {
   "cell_type": "code",
   "execution_count": null,
   "metadata": {},
   "outputs": [],
   "source": [
    "hof_dfs = pd.concat(list(map(lambda x: get_hof(x), files)))"
   ]
  },
  {
   "cell_type": "code",
   "execution_count": null,
   "metadata": {},
   "outputs": [],
   "source": [
    "labels = ['fight','noFight']\n",
    "label_dict = {label: i for i, label in enumerate(labels)}"
   ]
  },
  {
   "cell_type": "code",
   "execution_count": null,
   "metadata": {},
   "outputs": [],
   "source": [
    "hof_dfs['label'] = list(map(lambda x:label_dict[x], list(hof_dfs['video_path'].iloc[i].split('/')[-2] for i in range(len(hof_dfs)))))\n",
    "hof_dfs.drop('video_path')"
   ]
  },
  {
   "cell_type": "markdown",
   "metadata": {},
   "source": [
    "The code that follows is another way of preprocessing the same"
   ]
  },
  {
   "cell_type": "code",
   "execution_count": null,
   "metadata": {},
   "outputs": [],
   "source": [
    "import make_hof_half\n",
    "from make_hof_half import get_processed_hof\n",
    "import pandas as pd\n",
    "import os,datetime\n",
    "import matplotlib.pyplot as plt \n",
    "import numpy as np\n",
    "import cv2\n",
    "import pathlib\n",
    "import pickle as pkl\n",
    "from video_stuff import get_frames_per\n",
    "from video_stuff import hof,getFlow\n",
    "from time import time\n",
    "from metrics import emi_model_metrics\n",
    "import numpy as np\n",
    "import matplotlib"
   ]
  },
  {
   "cell_type": "code",
   "execution_count": null,
   "metadata": {},
   "outputs": [],
   "source": [
    "# start = time()\n",
    "hof_df = get_processed_hof(src_folder='/home/adithyapa4444_gmail_com/UCF_Crime/Full_UCrime/annotated/',bagsize=32,reduction_factor=2)\n",
    "# time_string = \"Bagsize : \"+str(4)+\"\\nReduction Factor : \"+str(6)+\"\\nTime :\" + str(time()-start) + \"\\nNumber of bags:\" + str(len(hof_df) // bag)\n",
    "# file_1.write(time_string)\n",
    "# file_1.close()\n",
    "df_copy = hof_df\n",
    "x_train, y_train, x_val, y_val, x_test, y_test = emirnn_preprocess(bagsize=12,\n",
    "                  no_of_features=540,\n",
    "                  extractedDir='/home/adithyapa4444_gmail_com/UCF_Crime/half/',\n",
    "                  numClass=8,\n",
    "                  subinstanceLen=16,\n",
    "                  subinstanceStride=4,\n",
    "                  data_csv=hof_df,\n",
    "                  raw_create=1\n",
    "                 )\n",
    "\n",
    "data = {\n",
    "    'x_train' : x_train, \n",
    "    'y_train' : y_train, \n",
    "    'x_val' : x_val, \n",
    "    'y_val' : y_val, \n",
    "    'x_test' : x_test, \n",
    "    'y_test' : y_test\n",
    "}"
   ]
  }
 ],
 "metadata": {
  "kernelspec": {
   "display_name": "Python 3",
   "language": "python",
   "name": "python3"
  },
  "language_info": {
   "codemirror_mode": {
    "name": "ipython",
    "version": 3
   },
   "file_extension": ".py",
   "mimetype": "text/x-python",
   "name": "python",
   "nbconvert_exporter": "python",
   "pygments_lexer": "ipython3",
   "version": "3.6.9"
  }
 },
 "nbformat": 4,
 "nbformat_minor": 2
}
